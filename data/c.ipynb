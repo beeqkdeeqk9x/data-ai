{
 "cells": [
  {
   "attachments": {},
   "cell_type": "markdown",
   "metadata": {},
   "source": [
    "**Bài tập 1: Đọc và Hiển thị Dữ liệu**"
   ]
  },
  {
   "cell_type": "code",
   "execution_count": 3,
   "metadata": {},
   "outputs": [
    {
     "name": "stdout",
     "output_type": "stream",
     "text": [
      "   ID   Name  Age  Gender  MathScore  EnglishScore  Score       Address  \\\n",
      "0   1   John   25    Male         80            90   85.0   123 Main St   \n",
      "1   2  Alice   30  Female         70            85   77.5    456 Elm St   \n",
      "2   3    Bob   22    Male         60            75   67.5    789 Oak St   \n",
      "3   4    Eve   28  Female         55            95   75.0   101 Pine St   \n",
      "4   5  Chris   24    Male         90            80   85.0  111 Maple St   \n",
      "\n",
      "        Full_Name  Subject        Date  \n",
      "0        John Doe     Math  2023-08-01  \n",
      "1     Alice Smith  English  2023-08-02  \n",
      "2  Robert Johnson     Math  2023-08-01  \n",
      "3    Eve Williams  English  2023-08-03  \n",
      "4     Chris Brown     Math  2023-08-02  \n"
     ]
    }
   ],
   "source": [
    "import pandas as pd\n",
    "\n",
    "df_raw = pd.read_csv(\"data.csv\")\n",
    "print(df_raw.head())"
   ]
  },
  {
   "attachments": {},
   "cell_type": "markdown",
   "metadata": {},
   "source": [
    "**Bài tập 2: Truy cập và Hiển thị Dữ liệu**"
   ]
  },
  {
   "cell_type": "code",
   "execution_count": 4,
   "metadata": {},
   "outputs": [],
   "source": [
    "df = df_raw.copy()"
   ]
  },
  {
   "cell_type": "code",
   "execution_count": 5,
   "metadata": {},
   "outputs": [
    {
     "name": "stdout",
     "output_type": "stream",
     "text": [
      "0    25\n",
      "1    30\n",
      "2    22\n",
      "3    28\n",
      "4    24\n",
      "Name: Age, dtype: int64\n"
     ]
    }
   ],
   "source": [
    "age_column = df['Age']\n",
    "print(age_column.head(10))"
   ]
  },
  {
   "attachments": {},
   "cell_type": "markdown",
   "metadata": {},
   "source": [
    "**Bài tập 3: Lọc dữ liệu**"
   ]
  },
  {
   "cell_type": "code",
   "execution_count": 6,
   "metadata": {},
   "outputs": [
    {
     "name": "stdout",
     "output_type": "stream",
     "text": [
      "   ID   Name  Age  Gender  MathScore  EnglishScore  Score      Address  \\\n",
      "1   2  Alice   30  Female         70            85   77.5   456 Elm St   \n",
      "3   4    Eve   28  Female         55            95   75.0  101 Pine St   \n",
      "\n",
      "      Full_Name  Subject        Date  \n",
      "1   Alice Smith  English  2023-08-02  \n",
      "3  Eve Williams  English  2023-08-03  \n"
     ]
    }
   ],
   "source": [
    "filtered_data = df[(df['Gender'] == 'Female') & (df['Age'] > 25)]\n",
    "print(filtered_data)"
   ]
  },
  {
   "attachments": {},
   "cell_type": "markdown",
   "metadata": {},
   "source": [
    "**Bài tập 4: Tính tổng**"
   ]
  },
  {
   "cell_type": "code",
   "execution_count": 7,
   "metadata": {},
   "outputs": [
    {
     "name": "stdout",
     "output_type": "stream",
     "text": [
      "390.0\n"
     ]
    }
   ],
   "source": [
    "score_sum = df['Score'].sum()\n",
    "print(score_sum)"
   ]
  },
  {
   "attachments": {},
   "cell_type": "markdown",
   "metadata": {},
   "source": [
    "**Bài tập 5: Thêm cột mới**"
   ]
  },
  {
   "cell_type": "code",
   "execution_count": 8,
   "metadata": {},
   "outputs": [
    {
     "name": "stdout",
     "output_type": "stream",
     "text": [
      "   ID   Name  Age  Gender  MathScore  EnglishScore  Score       Address  \\\n",
      "0   1   John   25    Male         80            90   85.0   123 Main St   \n",
      "1   2  Alice   30  Female         70            85   77.5    456 Elm St   \n",
      "2   3    Bob   22    Male         60            75   67.5    789 Oak St   \n",
      "3   4    Eve   28  Female         55            95   75.0   101 Pine St   \n",
      "4   5  Chris   24    Male         90            80   85.0  111 Maple St   \n",
      "\n",
      "        Full_Name  Subject        Date  TotalScore  \n",
      "0        John Doe     Math  2023-08-01         170  \n",
      "1     Alice Smith  English  2023-08-02         155  \n",
      "2  Robert Johnson     Math  2023-08-01         135  \n",
      "3    Eve Williams  English  2023-08-03         150  \n",
      "4     Chris Brown     Math  2023-08-02         170  \n"
     ]
    }
   ],
   "source": [
    "df['TotalScore'] = df['MathScore'] + df['EnglishScore']\n",
    "print(df.head())"
   ]
  },
  {
   "attachments": {},
   "cell_type": "markdown",
   "metadata": {},
   "source": [
    "**Bài tập 6: Sắp xếp dữ liệu**"
   ]
  },
  {
   "cell_type": "code",
   "execution_count": 9,
   "metadata": {},
   "outputs": [
    {
     "name": "stdout",
     "output_type": "stream",
     "text": [
      "   ID   Name  Age  Gender  MathScore  EnglishScore  Score       Address  \\\n",
      "2   3    Bob   22    Male         60            75   67.5    789 Oak St   \n",
      "4   5  Chris   24    Male         90            80   85.0  111 Maple St   \n",
      "0   1   John   25    Male         80            90   85.0   123 Main St   \n",
      "3   4    Eve   28  Female         55            95   75.0   101 Pine St   \n",
      "1   2  Alice   30  Female         70            85   77.5    456 Elm St   \n",
      "\n",
      "        Full_Name  Subject        Date  TotalScore  \n",
      "2  Robert Johnson     Math  2023-08-01         135  \n",
      "4     Chris Brown     Math  2023-08-02         170  \n",
      "0        John Doe     Math  2023-08-01         170  \n",
      "3    Eve Williams  English  2023-08-03         150  \n",
      "1     Alice Smith  English  2023-08-02         155  \n"
     ]
    }
   ],
   "source": [
    "sorted_df = df.sort_values(by='Age', ascending=True)\n",
    "print(sorted_df.head())"
   ]
  },
  {
   "attachments": {},
   "cell_type": "markdown",
   "metadata": {},
   "source": [
    "**Bài tập 7: Nhóm dữ liệu**"
   ]
  },
  {
   "cell_type": "code",
   "execution_count": 10,
   "metadata": {},
   "outputs": [
    {
     "name": "stdout",
     "output_type": "stream",
     "text": [
      "Gender\n",
      "Female    29.000000\n",
      "Male      23.666667\n",
      "Name: Age, dtype: float64\n"
     ]
    }
   ],
   "source": [
    "grouped_data = df.groupby('Gender')['Age'].mean()\n",
    "print(grouped_data)"
   ]
  },
  {
   "attachments": {},
   "cell_type": "markdown",
   "metadata": {},
   "source": [
    "**Bài tập 8: Xóa dữ liệu trùng lặp**"
   ]
  },
  {
   "cell_type": "code",
   "execution_count": 11,
   "metadata": {},
   "outputs": [
    {
     "name": "stdout",
     "output_type": "stream",
     "text": [
      "   ID   Name  Age  Gender  MathScore  EnglishScore  Score       Address  \\\n",
      "0   1   John   25    Male         80            90   85.0   123 Main St   \n",
      "1   2  Alice   30  Female         70            85   77.5    456 Elm St   \n",
      "2   3    Bob   22    Male         60            75   67.5    789 Oak St   \n",
      "3   4    Eve   28  Female         55            95   75.0   101 Pine St   \n",
      "4   5  Chris   24    Male         90            80   85.0  111 Maple St   \n",
      "\n",
      "        Full_Name  Subject        Date  TotalScore  \n",
      "0        John Doe     Math  2023-08-01         170  \n",
      "1     Alice Smith  English  2023-08-02         155  \n",
      "2  Robert Johnson     Math  2023-08-01         135  \n",
      "3    Eve Williams  English  2023-08-03         150  \n",
      "4     Chris Brown     Math  2023-08-02         170  \n"
     ]
    }
   ],
   "source": [
    "df = df.drop_duplicates()\n",
    "print(df)"
   ]
  },
  {
   "attachments": {},
   "cell_type": "markdown",
   "metadata": {},
   "source": [
    "**Bài tập 9: Điền giá trị thiếu**"
   ]
  },
  {
   "cell_type": "code",
   "execution_count": 12,
   "metadata": {},
   "outputs": [
    {
     "name": "stdout",
     "output_type": "stream",
     "text": [
      "   ID   Name  Age  Gender  MathScore  EnglishScore  Score       Address  \\\n",
      "0   1   John   25    Male         80            90   85.0   123 Main St   \n",
      "1   2  Alice   30  Female         70            85   77.5    456 Elm St   \n",
      "2   3    Bob   22    Male         60            75   67.5    789 Oak St   \n",
      "3   4    Eve   28  Female         55            95   75.0   101 Pine St   \n",
      "4   5  Chris   24    Male         90            80   85.0  111 Maple St   \n",
      "\n",
      "        Full_Name  Subject        Date  TotalScore  \n",
      "0        John Doe     Math  2023-08-01         170  \n",
      "1     Alice Smith  English  2023-08-02         155  \n",
      "2  Robert Johnson     Math  2023-08-01         135  \n",
      "3    Eve Williams  English  2023-08-03         150  \n",
      "4     Chris Brown     Math  2023-08-02         170  \n"
     ]
    }
   ],
   "source": [
    "average_age = df['Age'].mean()\n",
    "df['Age'].fillna(average_age, inplace=True)\n",
    "print(df)"
   ]
  },
  {
   "attachments": {},
   "cell_type": "markdown",
   "metadata": {},
   "source": [
    "**Bài tập 10: Thống kê mô tả**"
   ]
  },
  {
   "cell_type": "code",
   "execution_count": 13,
   "metadata": {},
   "outputs": [
    {
     "name": "stdout",
     "output_type": "stream",
     "text": [
      "count     5.000000\n",
      "mean     78.000000\n",
      "std       7.373941\n",
      "min      67.500000\n",
      "25%      75.000000\n",
      "50%      77.500000\n",
      "75%      85.000000\n",
      "max      85.000000\n",
      "Name: Score, dtype: float64\n"
     ]
    }
   ],
   "source": [
    "score_description = df['Score'].describe()\n",
    "print(score_description)"
   ]
  },
  {
   "attachments": {},
   "cell_type": "markdown",
   "metadata": {},
   "source": [
    "**Bài tập 11: Loại bỏ cột**"
   ]
  },
  {
   "cell_type": "code",
   "execution_count": 14,
   "metadata": {},
   "outputs": [
    {
     "name": "stdout",
     "output_type": "stream",
     "text": [
      "   ID   Name  Age  Gender  MathScore  EnglishScore  Score       Full_Name  \\\n",
      "0   1   John   25    Male         80            90   85.0        John Doe   \n",
      "1   2  Alice   30  Female         70            85   77.5     Alice Smith   \n",
      "2   3    Bob   22    Male         60            75   67.5  Robert Johnson   \n",
      "3   4    Eve   28  Female         55            95   75.0    Eve Williams   \n",
      "4   5  Chris   24    Male         90            80   85.0     Chris Brown   \n",
      "\n",
      "   Subject        Date  TotalScore  \n",
      "0     Math  2023-08-01         170  \n",
      "1  English  2023-08-02         155  \n",
      "2     Math  2023-08-01         135  \n",
      "3  English  2023-08-03         150  \n",
      "4     Math  2023-08-02         170  \n"
     ]
    }
   ],
   "source": [
    "df.drop(columns=['Address'], inplace=True)\n",
    "print(df)"
   ]
  },
  {
   "attachments": {},
   "cell_type": "markdown",
   "metadata": {},
   "source": [
    "**Bài tập 12: Tạo biểu đồ cột**"
   ]
  },
  {
   "cell_type": "code",
   "execution_count": 15,
   "metadata": {},
   "outputs": [
    {
     "data": {
      "image/png": "[encoded data removed]",
      "text/plain": [
       "<Figure size 432x288 with 1 Axes>"
      ]
     },
     "metadata": {
      "needs_background": "light"
     },
     "output_type": "display_data"
    }
   ],
   "source": [
    "import matplotlib.pyplot as plt\n",
    "\n",
    "df.plot(kind='bar', x='Name', y='TotalScore')\n",
    "plt.show()"
   ]
  },
  {
   "attachments": {},
   "cell_type": "markdown",
   "metadata": {},
   "source": [
    "**Bài tập 12: Tạo biểu đồ cột**"
   ]
  },
  {
   "cell_type": "code",
   "execution_count": 16,
   "metadata": {},
   "outputs": [
    {
     "data": {
      "image/png": "[encoded data removed]",
      "text/plain": [
       "<Figure size 432x288 with 1 Axes>"
      ]
     },
     "metadata": {
      "needs_background": "light"
     },
     "output_type": "display_data"
    }
   ],
   "source": [
    "import matplotlib.pyplot as plt\n",
    "\n",
    "df.plot(kind='bar', x='Name', y='TotalScore')\n",
    "plt.show()"
   ]
  },
  {
   "attachments": {},
   "cell_type": "markdown",
   "metadata": {},
   "source": [
    "**Bài tập 13: Tạo Index tùy chỉnh**"
   ]
  },
  {
   "cell_type": "code",
   "execution_count": 17,
   "metadata": {},
   "outputs": [
    {
     "name": "stdout",
     "output_type": "stream",
     "text": [
      "     Name  Age  Gender  MathScore  EnglishScore  Score       Full_Name  \\\n",
      "ID                                                                       \n",
      "1    John   25    Male         80            90   85.0        John Doe   \n",
      "2   Alice   30  Female         70            85   77.5     Alice Smith   \n",
      "3     Bob   22    Male         60            75   67.5  Robert Johnson   \n",
      "4     Eve   28  Female         55            95   75.0    Eve Williams   \n",
      "5   Chris   24    Male         90            80   85.0     Chris Brown   \n",
      "\n",
      "    Subject        Date  TotalScore  \n",
      "ID                                   \n",
      "1      Math  2023-08-01         170  \n",
      "2   English  2023-08-02         155  \n",
      "3      Math  2023-08-01         135  \n",
      "4   English  2023-08-03         150  \n",
      "5      Math  2023-08-02         170  \n"
     ]
    }
   ],
   "source": [
    "df.set_index('ID', inplace=True)\n",
    "print(df)"
   ]
  },
  {
   "attachments": {},
   "cell_type": "markdown",
   "metadata": {},
   "source": [
    "**Bài tập 14: Tạo cột dựa trên điều kiện**"
   ]
  },
  {
   "cell_type": "code",
   "execution_count": 18,
   "metadata": {},
   "outputs": [
    {
     "name": "stdout",
     "output_type": "stream",
     "text": [
      "     Name  Age  Gender  MathScore  EnglishScore  Score       Full_Name  \\\n",
      "ID                                                                       \n",
      "1    John   25    Male         80            90   85.0        John Doe   \n",
      "2   Alice   30  Female         70            85   77.5     Alice Smith   \n",
      "3     Bob   22    Male         60            75   67.5  Robert Johnson   \n",
      "4     Eve   28  Female         55            95   75.0    Eve Williams   \n",
      "5   Chris   24    Male         90            80   85.0     Chris Brown   \n",
      "\n",
      "    Subject        Date  TotalScore  Pass  \n",
      "ID                                         \n",
      "1      Math  2023-08-01         170  True  \n",
      "2   English  2023-08-02         155  True  \n",
      "3      Math  2023-08-01         135  True  \n",
      "4   English  2023-08-03         150  True  \n",
      "5      Math  2023-08-02         170  True  \n"
     ]
    }
   ],
   "source": [
    "df['Pass'] = df['Score'] >= 50\n",
    "print(df)"
   ]
  },
  {
   "attachments": {},
   "cell_type": "markdown",
   "metadata": {},
   "source": [
    "**Bài tập 15: Làm việc với chuỗi**"
   ]
  },
  {
   "cell_type": "code",
   "execution_count": 19,
   "metadata": {},
   "outputs": [
    {
     "name": "stdout",
     "output_type": "stream",
     "text": [
      "     Name  Age  Gender  MathScore  EnglishScore  Score       Full_Name  \\\n",
      "ID                                                                       \n",
      "1    John   25    Male         80            90   85.0        John Doe   \n",
      "2   Alice   30  Female         70            85   77.5     Alice Smith   \n",
      "3     Bob   22    Male         60            75   67.5  Robert Johnson   \n",
      "4     Eve   28  Female         55            95   75.0    Eve Williams   \n",
      "5   Chris   24    Male         90            80   85.0     Chris Brown   \n",
      "\n",
      "    Subject        Date  TotalScore  Pass First_Name Last_Name  \n",
      "ID                                                              \n",
      "1      Math  2023-08-01         170  True       John       Doe  \n",
      "2   English  2023-08-02         155  True      Alice     Smith  \n",
      "3      Math  2023-08-01         135  True     Robert   Johnson  \n",
      "4   English  2023-08-03         150  True        Eve  Williams  \n",
      "5      Math  2023-08-02         170  True      Chris     Brown  \n"
     ]
    }
   ],
   "source": [
    "df[['First_Name', 'Last_Name']] = df['Full_Name'].str.split(' ', expand=True)\n",
    "print(df)"
   ]
  },
  {
   "attachments": {},
   "cell_type": "markdown",
   "metadata": {},
   "source": [
    "**Bài tập 16: Merge DataFrame**"
   ]
  },
  {
   "cell_type": "code",
   "execution_count": 20,
   "metadata": {},
   "outputs": [],
   "source": [
    "import pandas as pd\n",
    "\n",
    "data1 = {\n",
    "    'ID': [1, 2, 3, 4, 5],\n",
    "    'Name': ['John', 'Alice', 'Bob', 'Eve', 'Chris']\n",
    "}\n",
    "\n",
    "data2 = {\n",
    "    'ID': [1, 2, 3, 4, 5],\n",
    "    'Age': [25, 30, 22, 28, 24]\n",
    "}\n",
    "\n",
    "df1 = pd.DataFrame(data1)\n",
    "df2 = pd.DataFrame(data2)\n"
   ]
  },
  {
   "cell_type": "code",
   "execution_count": 21,
   "metadata": {},
   "outputs": [
    {
     "name": "stdout",
     "output_type": "stream",
     "text": [
      "   ID   Name  Age\n",
      "0   1   John   25\n",
      "1   2  Alice   30\n",
      "2   3    Bob   22\n",
      "3   4    Eve   28\n",
      "4   5  Chris   24\n"
     ]
    }
   ],
   "source": [
    "merged_df = pd.merge(df1, df2, on='ID')\n",
    "print(merged_df)"
   ]
  },
  {
   "attachments": {},
   "cell_type": "markdown",
   "metadata": {},
   "source": [
    "**Bài tập 17: Tích hợp dữ liệu từ URL**"
   ]
  },
  {
   "cell_type": "code",
   "execution_count": 22,
   "metadata": {},
   "outputs": [],
   "source": [
    "# url = \"https://example.com/data.csv\"\n",
    "# df_ = pd.read_csv(url)\n",
    "# print(df_)"
   ]
  },
  {
   "attachments": {},
   "cell_type": "markdown",
   "metadata": {},
   "source": [
    "**Bài tập 18: Pivot Table cơ bản**"
   ]
  },
  {
   "cell_type": "code",
   "execution_count": 23,
   "metadata": {},
   "outputs": [
    {
     "name": "stdout",
     "output_type": "stream",
     "text": [
      "Subject  English       Math\n",
      "Gender                     \n",
      "Female     76.25        NaN\n",
      "Male         NaN  79.166667\n"
     ]
    }
   ],
   "source": [
    "pivot_table = df.pivot_table(index='Gender', columns='Subject', values='Score', aggfunc='mean')\n",
    "print(pivot_table)"
   ]
  },
  {
   "attachments": {},
   "cell_type": "markdown",
   "metadata": {},
   "source": [
    "**Bài tập 19: Tạo Index từ cột dữ liệu**"
   ]
  },
  {
   "cell_type": "code",
   "execution_count": 24,
   "metadata": {},
   "outputs": [
    {
     "name": "stdout",
     "output_type": "stream",
     "text": [
      "             Name  Age  Gender  MathScore  EnglishScore  Score  \\\n",
      "Date                                                             \n",
      "2023-08-01   John   25    Male         80            90   85.0   \n",
      "2023-08-02  Alice   30  Female         70            85   77.5   \n",
      "2023-08-01    Bob   22    Male         60            75   67.5   \n",
      "2023-08-03    Eve   28  Female         55            95   75.0   \n",
      "2023-08-02  Chris   24    Male         90            80   85.0   \n",
      "\n",
      "                 Full_Name  Subject  TotalScore  Pass First_Name Last_Name  \n",
      "Date                                                                        \n",
      "2023-08-01        John Doe     Math         170  True       John       Doe  \n",
      "2023-08-02     Alice Smith  English         155  True      Alice     Smith  \n",
      "2023-08-01  Robert Johnson     Math         135  True     Robert   Johnson  \n",
      "2023-08-03    Eve Williams  English         150  True        Eve  Williams  \n",
      "2023-08-02     Chris Brown     Math         170  True      Chris     Brown  \n"
     ]
    }
   ],
   "source": [
    "df['Date'] = pd.to_datetime(df['Date'])\n",
    "df.set_index('Date', inplace=True)\n",
    "print(df)"
   ]
  },
  {
   "attachments": {},
   "cell_type": "markdown",
   "metadata": {},
   "source": [
    "**Bài tập 20: Ghi DataFrame vào tệp CSV**"
   ]
  },
  {
   "cell_type": "code",
   "execution_count": 25,
   "metadata": {},
   "outputs": [],
   "source": [
    "df.to_csv(\"new_data.csv\", index=False)"
   ]
  },
  {
   "attachments": {},
   "cell_type": "markdown",
   "metadata": {},
   "source": [
    "**Bài tập 21: Thay đổi tên cột**"
   ]
  },
  {
   "cell_type": "code",
   "execution_count": 26,
   "metadata": {},
   "outputs": [
    {
     "name": "stdout",
     "output_type": "stream",
     "text": [
      "           Full_Name  Age  Gender  MathScore  EnglishScore  Score  \\\n",
      "Date                                                                \n",
      "2023-08-01      John   25    Male         80            90   85.0   \n",
      "2023-08-02     Alice   30  Female         70            85   77.5   \n",
      "2023-08-01       Bob   22    Male         60            75   67.5   \n",
      "2023-08-03       Eve   28  Female         55            95   75.0   \n",
      "2023-08-02     Chris   24    Male         90            80   85.0   \n",
      "\n",
      "                 Full_Name  Subject  TotalScore  Pass First_Name Last_Name  \n",
      "Date                                                                        \n",
      "2023-08-01        John Doe     Math         170  True       John       Doe  \n",
      "2023-08-02     Alice Smith  English         155  True      Alice     Smith  \n",
      "2023-08-01  Robert Johnson     Math         135  True     Robert   Johnson  \n",
      "2023-08-03    Eve Williams  English         150  True        Eve  Williams  \n",
      "2023-08-02     Chris Brown     Math         170  True      Chris     Brown  \n"
     ]
    }
   ],
   "source": [
    "df.rename(columns={'Name': 'Full_Name'}, inplace=True)\n",
    "print(df)"
   ]
  },
  {
   "attachments": {},
   "cell_type": "markdown",
   "metadata": {},
   "source": [
    "**Bài tập 22: Thay đổi kiểu dữ liệu**"
   ]
  },
  {
   "cell_type": "code",
   "execution_count": 27,
   "metadata": {},
   "outputs": [
    {
     "name": "stdout",
     "output_type": "stream",
     "text": [
      "           Full_Name  Age  Gender  MathScore  EnglishScore  Score  \\\n",
      "Date                                                                \n",
      "2023-08-01      John   25    Male         80            90   85.0   \n",
      "2023-08-02     Alice   30  Female         70            85   77.5   \n",
      "2023-08-01       Bob   22    Male         60            75   67.5   \n",
      "2023-08-03       Eve   28  Female         55            95   75.0   \n",
      "2023-08-02     Chris   24    Male         90            80   85.0   \n",
      "\n",
      "                 Full_Name  Subject  TotalScore  Pass First_Name Last_Name  \n",
      "Date                                                                        \n",
      "2023-08-01        John Doe     Math         170  True       John       Doe  \n",
      "2023-08-02     Alice Smith  English         155  True      Alice     Smith  \n",
      "2023-08-01  Robert Johnson     Math         135  True     Robert   Johnson  \n",
      "2023-08-03    Eve Williams  English         150  True        Eve  Williams  \n",
      "2023-08-02     Chris Brown     Math         170  True      Chris     Brown  \n"
     ]
    }
   ],
   "source": [
    "df['Age'] = df['Age'].astype(int)\n",
    "print(df)"
   ]
  },
  {
   "attachments": {},
   "cell_type": "markdown",
   "metadata": {},
   "source": [
    "**Bài tập 23: Trực quan hóa dữ liệu**"
   ]
  },
  {
   "cell_type": "code",
   "execution_count": 28,
   "metadata": {},
   "outputs": [
    {
     "data": {
      "image/png": "[encoded data removed]",
      "text/plain": [
       "<Figure size 432x288 with 1 Axes>"
      ]
     },
     "metadata": {
      "needs_background": "light"
     },
     "output_type": "display_data"
    }
   ],
   "source": [
    "df.plot(kind='scatter', x='MathScore', y='EnglishScore')\n",
    "plt.show()"
   ]
  },
  {
   "attachments": {},
   "cell_type": "markdown",
   "metadata": {},
   "source": [
    "**Bài tập 24: Xoá hàng dữ liệu**"
   ]
  },
  {
   "cell_type": "code",
   "execution_count": 29,
   "metadata": {},
   "outputs": [
    {
     "name": "stdout",
     "output_type": "stream",
     "text": [
      "           Full_Name  Age  Gender  MathScore  EnglishScore  Score  \\\n",
      "Date                                                                \n",
      "2023-08-01      John   25    Male         80            90   85.0   \n",
      "2023-08-02     Alice   30  Female         70            85   77.5   \n",
      "2023-08-01       Bob   22    Male         60            75   67.5   \n",
      "2023-08-03       Eve   28  Female         55            95   75.0   \n",
      "2023-08-02     Chris   24    Male         90            80   85.0   \n",
      "\n",
      "                 Full_Name  Subject  TotalScore  Pass First_Name Last_Name  \n",
      "Date                                                                        \n",
      "2023-08-01        John Doe     Math         170  True       John       Doe  \n",
      "2023-08-02     Alice Smith  English         155  True      Alice     Smith  \n",
      "2023-08-01  Robert Johnson     Math         135  True     Robert   Johnson  \n",
      "2023-08-03    Eve Williams  English         150  True        Eve  Williams  \n",
      "2023-08-02     Chris Brown     Math         170  True      Chris     Brown  \n"
     ]
    }
   ],
   "source": [
    "df = df[df['Score'] >= 50]\n",
    "print(df)"
   ]
  },
  {
   "attachments": {},
   "cell_type": "markdown",
   "metadata": {},
   "source": [
    "**Bài tập 25: Sử dụng cột làm điều kiện**"
   ]
  },
  {
   "cell_type": "code",
   "execution_count": 30,
   "metadata": {},
   "outputs": [
    {
     "name": "stdout",
     "output_type": "stream",
     "text": [
      "           Full_Name  Age Gender  MathScore  EnglishScore  Score  \\\n",
      "Date                                                               \n",
      "2023-08-01      John   25   Male         80            90   85.0   \n",
      "2023-08-01       Bob   22   Male         60            75   67.5   \n",
      "2023-08-02     Chris   24   Male         90            80   85.0   \n",
      "\n",
      "                 Full_Name Subject  TotalScore  Pass First_Name Last_Name  \n",
      "Date                                                                       \n",
      "2023-08-01        John Doe    Math         170  True       John       Doe  \n",
      "2023-08-01  Robert Johnson    Math         135  True     Robert   Johnson  \n",
      "2023-08-02     Chris Brown    Math         170  True      Chris     Brown  \n"
     ]
    }
   ],
   "source": [
    "filtered_data = df[(df['Gender'] == 'Male') & (df['Score'] > 60)]\n",
    "print(filtered_data)"
   ]
  },
  {
   "attachments": {},
   "cell_type": "markdown",
   "metadata": {},
   "source": [
    "**Bài tập 26: Tích hợp từ Dict**"
   ]
  },
  {
   "cell_type": "code",
   "execution_count": 31,
   "metadata": {},
   "outputs": [
    {
     "name": "stdout",
     "output_type": "stream",
     "text": [
      "    Name  Age\n",
      "0  Alice   25\n",
      "1    Bob   30\n"
     ]
    }
   ],
   "source": [
    "data = {'Name': ['Alice', 'Bob'], 'Age': [25, 30]}\n",
    "df = pd.DataFrame(data)\n",
    "print(df)"
   ]
  },
  {
   "attachments": {},
   "cell_type": "markdown",
   "metadata": {},
   "source": [
    "**Bài tập 27: Trích xuất dữ liệu**"
   ]
  },
  {
   "cell_type": "code",
   "execution_count": 32,
   "metadata": {},
   "outputs": [
    {
     "name": "stdout",
     "output_type": "stream",
     "text": [
      "    Name  Age\n",
      "0  Alice   25\n",
      "1    Bob   30\n"
     ]
    }
   ],
   "source": [
    "filtered_data = df[(df['Age'] >= 20) & (df['Age'] <= 30)]\n",
    "print(filtered_data)"
   ]
  },
  {
   "attachments": {},
   "cell_type": "markdown",
   "metadata": {},
   "source": [
    "**Bài tập 28: Lọc dựa trên nhiều điều kiện**"
   ]
  },
  {
   "cell_type": "code",
   "execution_count": 43,
   "metadata": {},
   "outputs": [
    {
     "name": "stdout",
     "output_type": "stream",
     "text": [
      "   ID   Name  Age  Gender  MathScore  EnglishScore  Score      Address  \\\n",
      "1   2  Alice   30  Female         70            85   77.5   456 Elm St   \n",
      "3   4    Eve   28  Female         55            95   75.0  101 Pine St   \n",
      "\n",
      "      Full_Name  Subject        Date  \n",
      "1   Alice Smith  English  2023-08-02  \n",
      "3  Eve Williams  English  2023-08-03  \n"
     ]
    }
   ],
   "source": [
    "filtered_data = df_raw[(df_raw['Age'] > 25) & (df_raw['Score'] >= 60)]\n",
    "print(filtered_data)"
   ]
  },
  {
   "attachments": {},
   "cell_type": "markdown",
   "metadata": {},
   "source": [
    "**Bài tập 30: Thêm dữ liệu mới**"
   ]
  },
  {
   "cell_type": "code",
   "execution_count": 44,
   "metadata": {},
   "outputs": [
    {
     "name": "stdout",
     "output_type": "stream",
     "text": [
      "    Name  Age      Full_Name Gender  Score\n",
      "0  Alice   25            NaN    NaN    NaN\n",
      "1    Bob   30            NaN    NaN    NaN\n",
      "2    NaN   28  Charlie Brown   Male   75.0\n"
     ]
    },
    {
     "name": "stderr",
     "output_type": "stream",
     "text": [
      "/tmp/ipykernel_157356/254081248.py:2: FutureWarning: The frame.append method is deprecated and will be removed from pandas in a future version. Use pandas.concat instead.\n",
      "  df = df.append(pd.DataFrame(new_data), ignore_index=True)\n"
     ]
    }
   ],
   "source": [
    "new_data = {'Full_Name': ['Charlie Brown'], 'Age': [28], 'Gender': ['Male'], 'Score': [75]}\n",
    "df = df.append(pd.DataFrame(new_data), ignore_index=True)\n",
    "print(df)"
   ]
  }
 ],
 "metadata": {
  "kernelspec": {
   "display_name": "base",
   "language": "python",
   "name": "python3"
  },
  "language_info": {
   "codemirror_mode": {
    "name": "ipython",
    "version": 3
   },
   "file_extension": ".py",
   "mimetype": "text/x-python",
   "name": "python",
   "nbconvert_exporter": "python",
   "pygments_lexer": "ipython3",
   "version": "3.9.12"
  },
  "orig_nbformat": 4
 },
 "nbformat": 4,
 "nbformat_minor": 2
}

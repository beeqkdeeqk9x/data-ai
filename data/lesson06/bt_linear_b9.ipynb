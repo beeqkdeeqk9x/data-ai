{
 "cells": [
  {
   "cell_type": "code",
   "execution_count": 2,
   "metadata": {},
   "outputs": [
    {
     "name": "stdout",
     "output_type": "stream",
     "text": [
      "[15 46  2 10  5 14  1 44  6 38 19 12 24 45 20  4 49 34 48  3 35  9 41 21\n",
      " 45 36  8 19 17 34 20 26 16 38 26 24  6 47 28 23  5  6 31 47 32 37  3 13\n",
      " 37 34 33 40  4 41 15 38 21 39  5 46 39 37 26 48  6 15 16 25 49 31 23 40\n",
      "  5 43 14 22 21 40 29 23  1 16 24 23 36  6  5 17 19 24 43  6  2 45 10 44\n",
      " 41  3 43 47]\n",
      "[59 22 26 56 29 53 36 35 12 47 20 30 51 57 10 57  5 15 24 57 34 23 48 26\n",
      " 41 19 14 14 58 46  2  8 22 41 33 19 29 28 34 26 28 10 34  3 45 49 11 34\n",
      " 29 58 39 18 49 15 52 14 10  8 28 37 24 21  9 24 46 50 36 49 37 47  4 50\n",
      " 59  3  3  8 50 35 24 43 15 48 35 37 40 36  8  5 12 40 55 12 34 45 34  8\n",
      " 43 11 48 31]\n"
     ]
    }
   ],
   "source": [
    "import numpy as np\n",
    "\n",
    "y_label = np.random.randint(1,50,100)\n",
    "x_i = np.random.randint(1,60,100)\n",
    "\n",
    "print(y_label)\n",
    "print(x_i)\n"
   ]
  },
  {
   "cell_type": "markdown",
   "metadata": {},
   "source": [
    "#  MBE"
   ]
  },
  {
   "cell_type": "code",
   "execution_count": 22,
   "metadata": {},
   "outputs": [
    {
     "data": {
      "text/plain": [
       "-5.64"
      ]
     },
     "execution_count": 22,
     "metadata": {},
     "output_type": "execute_result"
    }
   ],
   "source": [
    "\n",
    "Mbe = np.mean(y_label - x_i)\n",
    "Mbe"
   ]
  },
  {
   "cell_type": "markdown",
   "metadata": {},
   "source": [
    "# MAE"
   ]
  },
  {
   "cell_type": "code",
   "execution_count": null,
   "metadata": {},
   "outputs": [],
   "source": []
  },
  {
   "cell_type": "markdown",
   "metadata": {},
   "source": [
    "# MSE \n",
    "## mean square error\n"
   ]
  },
  {
   "cell_type": "code",
   "execution_count": 25,
   "metadata": {},
   "outputs": [
    {
     "data": {
      "text/plain": [
       "520.58"
      ]
     },
     "execution_count": 25,
     "metadata": {},
     "output_type": "execute_result"
    }
   ],
   "source": [
    "\n",
    "\n",
    "mse = np.mean((y_label - x_i) ** 2)\n",
    "mse\n",
    "\n",
    "# MSE  = (1 / len(y_label)) * (np.sum((y_label - x_i) ** 2))\n",
    "# MSE "
   ]
  },
  {
   "cell_type": "markdown",
   "metadata": {},
   "source": [
    "# RMSE \n",
    "## root mean square error"
   ]
  },
  {
   "cell_type": "code",
   "execution_count": 27,
   "metadata": {},
   "outputs": [
    {
     "data": {
      "text/plain": [
       "22.81622229905731"
      ]
     },
     "execution_count": 27,
     "metadata": {},
     "output_type": "execute_result"
    }
   ],
   "source": [
    "rmse = np.sqrt(mse)\n",
    "rmse"
   ]
  },
  {
   "cell_type": "code",
   "execution_count": null,
   "metadata": {},
   "outputs": [],
   "source": []
  }
 ],
 "metadata": {
  "interpreter": {
   "hash": "81cf088c002d52dd28a89ee1f1c13e618a8b0121ec5bbdcb5cea6569a987262c"
  },
  "kernelspec": {
   "display_name": "Python 3.9.12 ('base')",
   "language": "python",
   "name": "python3"
  },
  "language_info": {
   "codemirror_mode": {
    "name": "ipython",
    "version": 3
   },
   "file_extension": ".py",
   "mimetype": "text/x-python",
   "name": "python",
   "nbconvert_exporter": "python",
   "pygments_lexer": "ipython3",
   "version": "3.9.12"
  },
  "orig_nbformat": 4
 },
 "nbformat": 4,
 "nbformat_minor": 2
}

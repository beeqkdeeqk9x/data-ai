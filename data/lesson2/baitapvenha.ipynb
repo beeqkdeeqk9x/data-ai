{
 "cells": [
  {
   "cell_type": "code",
   "execution_count": 1,
   "metadata": {},
   "outputs": [
    {
     "name": "stdout",
     "output_type": "stream",
     "text": [
      "   ID   Name  Age  Gender  MathScore  EnglishScore  Score       Address  \\\n",
      "0   1   John   25    Male         80            90   85.0   123 Main St   \n",
      "1   2  Alice   30  Female         70            85   77.5    456 Elm St   \n",
      "2   3    Bob   22    Male         60            75   67.5    789 Oak St   \n",
      "3   4    Eve   28  Female         55            95   75.0   101 Pine St   \n",
      "4   5  Chris   24    Male         90            80   85.0  111 Maple St   \n",
      "\n",
      "        Full_Name  Subject        Date  \n",
      "0        John Doe     Math  2023-08-01  \n",
      "1     Alice Smith  English  2023-08-02  \n",
      "2  Robert Johnson     Math  2023-08-01  \n",
      "3    Eve Williams  English  2023-08-03  \n",
      "4     Chris Brown     Math  2023-08-02  \n"
     ]
    }
   ],
   "source": [
    "import pandas as pd\n",
    "\n",
    "df_raw = pd.read_csv(\"data.csv\")\n",
    "print(df_raw.head())\n"
   ]
  },
  {
   "cell_type": "code",
   "execution_count": 2,
   "metadata": {},
   "outputs": [],
   "source": [
    "df = df_raw.copy()"
   ]
  },
  {
   "cell_type": "code",
   "execution_count": 3,
   "metadata": {},
   "outputs": [
    {
     "name": "stdout",
     "output_type": "stream",
     "text": [
      "0    25\n",
      "1    30\n",
      "2    22\n",
      "3    28\n",
      "4    24\n",
      "Name: Age, dtype: int64\n"
     ]
    }
   ],
   "source": [
    "age_column = df['Age']\n",
    "print(age_column.head(10))"
   ]
  },
  {
   "cell_type": "code",
   "execution_count": 4,
   "metadata": {},
   "outputs": [
    {
     "name": "stdout",
     "output_type": "stream",
     "text": [
      "   ID   Name  Age  Gender  MathScore  EnglishScore  Score      Address  \\\n",
      "1   2  Alice   30  Female         70            85   77.5   456 Elm St   \n",
      "3   4    Eve   28  Female         55            95   75.0  101 Pine St   \n",
      "\n",
      "      Full_Name  Subject        Date  \n",
      "1   Alice Smith  English  2023-08-02  \n",
      "3  Eve Williams  English  2023-08-03  \n"
     ]
    }
   ],
   "source": [
    "filtered_data = df[(df['Gender'] == 'Female') & (df['Age'] > 25)]\n",
    "print(filtered_data)"
   ]
  },
  {
   "cell_type": "code",
   "execution_count": 5,
   "metadata": {},
   "outputs": [
    {
     "name": "stdout",
     "output_type": "stream",
     "text": [
      "390.0\n"
     ]
    }
   ],
   "source": [
    "score_sum = df['Score'].sum()\n",
    "print(score_sum)"
   ]
  },
  {
   "cell_type": "code",
   "execution_count": 6,
   "metadata": {},
   "outputs": [
    {
     "name": "stdout",
     "output_type": "stream",
     "text": [
      "   ID   Name  Age  Gender  MathScore  EnglishScore  Score       Address  \\\n",
      "0   1   John   25    Male         80            90   85.0   123 Main St   \n",
      "1   2  Alice   30  Female         70            85   77.5    456 Elm St   \n",
      "2   3    Bob   22    Male         60            75   67.5    789 Oak St   \n",
      "3   4    Eve   28  Female         55            95   75.0   101 Pine St   \n",
      "4   5  Chris   24    Male         90            80   85.0  111 Maple St   \n",
      "\n",
      "        Full_Name  Subject        Date  TotalScore  \n",
      "0        John Doe     Math  2023-08-01         170  \n",
      "1     Alice Smith  English  2023-08-02         155  \n",
      "2  Robert Johnson     Math  2023-08-01         135  \n",
      "3    Eve Williams  English  2023-08-03         150  \n",
      "4     Chris Brown     Math  2023-08-02         170  \n"
     ]
    }
   ],
   "source": [
    "df['TotalScore'] = df['MathScore'] + df['EnglishScore']\n",
    "print(df.head())"
   ]
  },
  {
   "cell_type": "code",
   "execution_count": 7,
   "metadata": {},
   "outputs": [
    {
     "name": "stdout",
     "output_type": "stream",
     "text": [
      "   ID   Name  Age  Gender  MathScore  EnglishScore  Score       Address  \\\n",
      "2   3    Bob   22    Male         60            75   67.5    789 Oak St   \n",
      "4   5  Chris   24    Male         90            80   85.0  111 Maple St   \n",
      "0   1   John   25    Male         80            90   85.0   123 Main St   \n",
      "3   4    Eve   28  Female         55            95   75.0   101 Pine St   \n",
      "1   2  Alice   30  Female         70            85   77.5    456 Elm St   \n",
      "\n",
      "        Full_Name  Subject        Date  TotalScore  \n",
      "2  Robert Johnson     Math  2023-08-01         135  \n",
      "4     Chris Brown     Math  2023-08-02         170  \n",
      "0        John Doe     Math  2023-08-01         170  \n",
      "3    Eve Williams  English  2023-08-03         150  \n",
      "1     Alice Smith  English  2023-08-02         155  \n"
     ]
    }
   ],
   "source": [
    "sorted_df = df.sort_values(by='Age', ascending=True)\n",
    "print(sorted_df.head())"
   ]
  },
  {
   "cell_type": "code",
   "execution_count": 8,
   "metadata": {},
   "outputs": [
    {
     "name": "stdout",
     "output_type": "stream",
     "text": [
      "Gender\n",
      "Female    29.000000\n",
      "Male      23.666667\n",
      "Name: Age, dtype: float64\n"
     ]
    }
   ],
   "source": [
    "grouped_data = df.groupby('Gender')['Age'].mean()\n",
    "print(grouped_data)"
   ]
  },
  {
   "cell_type": "code",
   "execution_count": 9,
   "metadata": {},
   "outputs": [
    {
     "name": "stdout",
     "output_type": "stream",
     "text": [
      "   ID   Name  Age  Gender  MathScore  EnglishScore  Score       Address  \\\n",
      "0   1   John   25    Male         80            90   85.0   123 Main St   \n",
      "1   2  Alice   30  Female         70            85   77.5    456 Elm St   \n",
      "2   3    Bob   22    Male         60            75   67.5    789 Oak St   \n",
      "3   4    Eve   28  Female         55            95   75.0   101 Pine St   \n",
      "4   5  Chris   24    Male         90            80   85.0  111 Maple St   \n",
      "\n",
      "        Full_Name  Subject        Date  TotalScore  \n",
      "0        John Doe     Math  2023-08-01         170  \n",
      "1     Alice Smith  English  2023-08-02         155  \n",
      "2  Robert Johnson     Math  2023-08-01         135  \n",
      "3    Eve Williams  English  2023-08-03         150  \n",
      "4     Chris Brown     Math  2023-08-02         170  \n"
     ]
    }
   ],
   "source": [
    "df = df.drop_duplicates()\n",
    "print(df)"
   ]
  },
  {
   "cell_type": "code",
   "execution_count": 10,
   "metadata": {},
   "outputs": [
    {
     "name": "stdout",
     "output_type": "stream",
     "text": [
      "   ID   Name  Age  Gender  MathScore  EnglishScore  Score       Address  \\\n",
      "0   1   John   25    Male         80            90   85.0   123 Main St   \n",
      "1   2  Alice   30  Female         70            85   77.5    456 Elm St   \n",
      "2   3    Bob   22    Male         60            75   67.5    789 Oak St   \n",
      "3   4    Eve   28  Female         55            95   75.0   101 Pine St   \n",
      "4   5  Chris   24    Male         90            80   85.0  111 Maple St   \n",
      "\n",
      "        Full_Name  Subject        Date  TotalScore  \n",
      "0        John Doe     Math  2023-08-01         170  \n",
      "1     Alice Smith  English  2023-08-02         155  \n",
      "2  Robert Johnson     Math  2023-08-01         135  \n",
      "3    Eve Williams  English  2023-08-03         150  \n",
      "4     Chris Brown     Math  2023-08-02         170  \n"
     ]
    }
   ],
   "source": [
    "average_age = df['Age'].mean()\n",
    "df['Age'].fillna(average_age, inplace=True)\n",
    "print(df)"
   ]
  },
  {
   "cell_type": "code",
   "execution_count": 11,
   "metadata": {},
   "outputs": [
    {
     "name": "stdout",
     "output_type": "stream",
     "text": [
      "count     5.000000\n",
      "mean     78.000000\n",
      "std       7.373941\n",
      "min      67.500000\n",
      "25%      75.000000\n",
      "50%      77.500000\n",
      "75%      85.000000\n",
      "max      85.000000\n",
      "Name: Score, dtype: float64\n"
     ]
    }
   ],
   "source": [
    "score_description = df['Score'].describe()\n",
    "print(score_description)"
   ]
  },
  {
   "cell_type": "code",
   "execution_count": 12,
   "metadata": {},
   "outputs": [
    {
     "name": "stdout",
     "output_type": "stream",
     "text": [
      "   ID   Name  Age  Gender  MathScore  EnglishScore  Score       Full_Name  \\\n",
      "0   1   John   25    Male         80            90   85.0        John Doe   \n",
      "1   2  Alice   30  Female         70            85   77.5     Alice Smith   \n",
      "2   3    Bob   22    Male         60            75   67.5  Robert Johnson   \n",
      "3   4    Eve   28  Female         55            95   75.0    Eve Williams   \n",
      "4   5  Chris   24    Male         90            80   85.0     Chris Brown   \n",
      "\n",
      "   Subject        Date  TotalScore  \n",
      "0     Math  2023-08-01         170  \n",
      "1  English  2023-08-02         155  \n",
      "2     Math  2023-08-01         135  \n",
      "3  English  2023-08-03         150  \n",
      "4     Math  2023-08-02         170  \n"
     ]
    }
   ],
   "source": [
    "df.drop(columns=['Address'], inplace=True)\n",
    "print(df)"
   ]
  },
  {
   "cell_type": "code",
   "execution_count": 13,
   "metadata": {},
   "outputs": [
    {
     "data": {
      "image/png": "[encoded data removed]",
      "text/plain": [
       "<Figure size 640x480 with 1 Axes>"
      ]
     },
     "metadata": {},
     "output_type": "display_data"
    }
   ],
   "source": [
    "import matplotlib.pyplot as plt\n",
    "\n",
    "df.plot(kind='bar', x='Name', y='TotalScore')\n",
    "plt.show()"
   ]
  },
  {
   "cell_type": "code",
   "execution_count": 14,
   "metadata": {},
   "outputs": [
    {
     "name": "stdout",
     "output_type": "stream",
     "text": [
      "     Name  Age  Gender  MathScore  EnglishScore  Score       Full_Name  \\\n",
      "ID                                                                       \n",
      "1    John   25    Male         80            90   85.0        John Doe   \n",
      "2   Alice   30  Female         70            85   77.5     Alice Smith   \n",
      "3     Bob   22    Male         60            75   67.5  Robert Johnson   \n",
      "4     Eve   28  Female         55            95   75.0    Eve Williams   \n",
      "5   Chris   24    Male         90            80   85.0     Chris Brown   \n",
      "\n",
      "    Subject        Date  TotalScore  \n",
      "ID                                   \n",
      "1      Math  2023-08-01         170  \n",
      "2   English  2023-08-02         155  \n",
      "3      Math  2023-08-01         135  \n",
      "4   English  2023-08-03         150  \n",
      "5      Math  2023-08-02         170  \n"
     ]
    }
   ],
   "source": [
    "df.set_index('ID', inplace=True)\n",
    "print(df)"
   ]
  },
  {
   "cell_type": "code",
   "execution_count": 15,
   "metadata": {},
   "outputs": [
    {
     "name": "stdout",
     "output_type": "stream",
     "text": [
      "     Name  Age  Gender  MathScore  EnglishScore  Score       Full_Name  \\\n",
      "ID                                                                       \n",
      "1    John   25    Male         80            90   85.0        John Doe   \n",
      "2   Alice   30  Female         70            85   77.5     Alice Smith   \n",
      "3     Bob   22    Male         60            75   67.5  Robert Johnson   \n",
      "4     Eve   28  Female         55            95   75.0    Eve Williams   \n",
      "5   Chris   24    Male         90            80   85.0     Chris Brown   \n",
      "\n",
      "    Subject        Date  TotalScore  Pass  \n",
      "ID                                         \n",
      "1      Math  2023-08-01         170  True  \n",
      "2   English  2023-08-02         155  True  \n",
      "3      Math  2023-08-01         135  True  \n",
      "4   English  2023-08-03         150  True  \n",
      "5      Math  2023-08-02         170  True  \n"
     ]
    }
   ],
   "source": [
    "df['Pass'] = df['Score'] >= 50\n",
    "print(df)"
   ]
  },
  {
   "cell_type": "code",
   "execution_count": 16,
   "metadata": {},
   "outputs": [
    {
     "name": "stdout",
     "output_type": "stream",
     "text": [
      "     Name  Age  Gender  MathScore  EnglishScore  Score       Full_Name  \\\n",
      "ID                                                                       \n",
      "1    John   25    Male         80            90   85.0        John Doe   \n",
      "2   Alice   30  Female         70            85   77.5     Alice Smith   \n",
      "3     Bob   22    Male         60            75   67.5  Robert Johnson   \n",
      "4     Eve   28  Female         55            95   75.0    Eve Williams   \n",
      "5   Chris   24    Male         90            80   85.0     Chris Brown   \n",
      "\n",
      "    Subject        Date  TotalScore  Pass  \n",
      "ID                                         \n",
      "1      Math  2023-08-01         170  True  \n",
      "2   English  2023-08-02         155  True  \n",
      "3      Math  2023-08-01         135  True  \n",
      "4   English  2023-08-03         150  True  \n",
      "5      Math  2023-08-02         170  True  \n"
     ]
    }
   ],
   "source": [
    "df['Pass'] = df['Score'] >= 50\n",
    "print(df)"
   ]
  },
  {
   "cell_type": "code",
   "execution_count": 17,
   "metadata": {},
   "outputs": [],
   "source": [
    "import pandas as pd\n",
    "\n",
    "data1 = {\n",
    "    'ID': [1, 2, 3, 4, 5],\n",
    "    'Name': ['John', 'Alice', 'Bob', 'Eve', 'Chris']\n",
    "}\n",
    "\n",
    "data2 = {\n",
    "    'ID': [1, 2, 3, 4, 5],\n",
    "    'Age': [25, 30, 22, 28, 24]\n",
    "}\n",
    "\n",
    "df1 = pd.DataFrame(data1)\n",
    "df2 = pd.DataFrame(data2)\n"
   ]
  },
  {
   "cell_type": "code",
   "execution_count": 18,
   "metadata": {},
   "outputs": [
    {
     "name": "stdout",
     "output_type": "stream",
     "text": [
      "   ID   Name  Age\n",
      "0   1   John   25\n",
      "1   2  Alice   30\n",
      "2   3    Bob   22\n",
      "3   4    Eve   28\n",
      "4   5  Chris   24\n"
     ]
    }
   ],
   "source": [
    "merged_df = pd.merge(df1, df2, on='ID')\n",
    "print(merged_df)"
   ]
  },
  {
   "cell_type": "code",
   "execution_count": 19,
   "metadata": {},
   "outputs": [
    {
     "name": "stdout",
     "output_type": "stream",
     "text": [
      "Subject  English       Math\n",
      "Gender                     \n",
      "Female     76.25        NaN\n",
      "Male         NaN  79.166667\n"
     ]
    }
   ],
   "source": [
    "pivot_table = df.pivot_table(index='Gender', columns='Subject', values='Score', aggfunc='mean')\n",
    "print(pivot_table)"
   ]
  },
  {
   "cell_type": "code",
   "execution_count": 20,
   "metadata": {},
   "outputs": [
    {
     "name": "stdout",
     "output_type": "stream",
     "text": [
      "             Name  Age  Gender  MathScore  EnglishScore  Score  \\\n",
      "Date                                                             \n",
      "2023-08-01   John   25    Male         80            90   85.0   \n",
      "2023-08-02  Alice   30  Female         70            85   77.5   \n",
      "2023-08-01    Bob   22    Male         60            75   67.5   \n",
      "2023-08-03    Eve   28  Female         55            95   75.0   \n",
      "2023-08-02  Chris   24    Male         90            80   85.0   \n",
      "\n",
      "                 Full_Name  Subject  TotalScore  Pass  \n",
      "Date                                                   \n",
      "2023-08-01        John Doe     Math         170  True  \n",
      "2023-08-02     Alice Smith  English         155  True  \n",
      "2023-08-01  Robert Johnson     Math         135  True  \n",
      "2023-08-03    Eve Williams  English         150  True  \n",
      "2023-08-02     Chris Brown     Math         170  True  \n"
     ]
    }
   ],
   "source": [
    "df['Date'] = pd.to_datetime(df['Date'])\n",
    "df.set_index('Date', inplace=True)\n",
    "print(df)"
   ]
  },
  {
   "cell_type": "code",
   "execution_count": 21,
   "metadata": {},
   "outputs": [],
   "source": [
    "df.to_csv(\"new_data.csv\", index=False)"
   ]
  },
  {
   "cell_type": "code",
   "execution_count": 22,
   "metadata": {},
   "outputs": [
    {
     "name": "stdout",
     "output_type": "stream",
     "text": [
      "           Full_Name  Age  Gender  MathScore  EnglishScore  Score  \\\n",
      "Date                                                                \n",
      "2023-08-01      John   25    Male         80            90   85.0   \n",
      "2023-08-02     Alice   30  Female         70            85   77.5   \n",
      "2023-08-01       Bob   22    Male         60            75   67.5   \n",
      "2023-08-03       Eve   28  Female         55            95   75.0   \n",
      "2023-08-02     Chris   24    Male         90            80   85.0   \n",
      "\n",
      "                 Full_Name  Subject  TotalScore  Pass  \n",
      "Date                                                   \n",
      "2023-08-01        John Doe     Math         170  True  \n",
      "2023-08-02     Alice Smith  English         155  True  \n",
      "2023-08-01  Robert Johnson     Math         135  True  \n",
      "2023-08-03    Eve Williams  English         150  True  \n",
      "2023-08-02     Chris Brown     Math         170  True  \n"
     ]
    }
   ],
   "source": [
    "df.rename(columns={'Name': 'Full_Name'}, inplace=True)\n",
    "print(df)"
   ]
  },
  {
   "cell_type": "code",
   "execution_count": 23,
   "metadata": {},
   "outputs": [
    {
     "name": "stdout",
     "output_type": "stream",
     "text": [
      "           Full_Name  Age  Gender  MathScore  EnglishScore  Score  \\\n",
      "Date                                                                \n",
      "2023-08-01      John   25    Male         80            90   85.0   \n",
      "2023-08-02     Alice   30  Female         70            85   77.5   \n",
      "2023-08-01       Bob   22    Male         60            75   67.5   \n",
      "2023-08-03       Eve   28  Female         55            95   75.0   \n",
      "2023-08-02     Chris   24    Male         90            80   85.0   \n",
      "\n",
      "                 Full_Name  Subject  TotalScore  Pass  \n",
      "Date                                                   \n",
      "2023-08-01        John Doe     Math         170  True  \n",
      "2023-08-02     Alice Smith  English         155  True  \n",
      "2023-08-01  Robert Johnson     Math         135  True  \n",
      "2023-08-03    Eve Williams  English         150  True  \n",
      "2023-08-02     Chris Brown     Math         170  True  \n"
     ]
    }
   ],
   "source": [
    "df['Age'] = df['Age'].astype(int)\n",
    "print(df)"
   ]
  }
 ],
 "metadata": {
  "interpreter": {
   "hash": "aee8b7b246df8f9039afb4144a1f6fd8d2ca17a180786b69acc140d282b71a49"
  },
  "kernelspec": {
   "display_name": "Python 3.10.1 64-bit",
   "language": "python",
   "name": "python3"
  },
  "language_info": {
   "codemirror_mode": {
    "name": "ipython",
    "version": 3
   },
   "file_extension": ".py",
   "mimetype": "text/x-python",
   "name": "python",
   "nbconvert_exporter": "python",
   "pygments_lexer": "ipython3",
   "version": "3.10.1"
  },
  "orig_nbformat": 4
 },
 "nbformat": 4,
 "nbformat_minor": 2
}
